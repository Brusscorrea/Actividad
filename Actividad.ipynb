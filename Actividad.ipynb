{
  "cells": [
    {
      "cell_type": "markdown",
      "metadata": {
        "id": "view-in-github",
        "colab_type": "text"
      },
      "source": [
        "<a href=\"https://colab.research.google.com/github/Brusscorrea/Actividad/blob/main/Actividad.ipynb\" target=\"_parent\"><img src=\"https://colab.research.google.com/assets/colab-badge.svg\" alt=\"Open In Colab\"/></a>"
      ]
    },
    {
      "cell_type": "code",
      "source": [
        "import random\n",
        "import time\n",
        "from IPython.display import clear_output\n",
        "\n",
        "def generate_board(rows, cols):\n",
        "    letters = ['a', 'b', 'c']\n",
        "    board = [[random.choice([random.randint(1, 10)] + letters) for _ in range(cols)] for _ in range(rows)]\n",
        "    return board\n",
        "\n",
        "def show_board(board):\n",
        "    for row in board:\n",
        "        print(' '.join(str(x) if isinstance(x, int) else x for x in row))\n",
        "\n",
        "def hide_value(board):\n",
        "    secret_row = random.randint(0, len(board) - 1)\n",
        "    secret_col = random.randint(0, len(board[0]) - 1)\n",
        "    secret_value = board[secret_row][secret_col]\n",
        "    board[secret_row][secret_col] = '*'\n",
        "    return secret_value, board\n",
        "\n",
        "def play_game(rows, cols):\n",
        "    board = generate_board(rows, cols)\n",
        "    show_board(board)  # Muestra el tablero completo\n",
        "    time.sleep(5)  # Espera 5 segundos\n",
        "    clear_output(wait=True)  # Limpia la salida\n",
        "    secret_value, hidden_board = hide_value(board)\n",
        "    show_board(hidden_board)  # Muestra el tablero con el valor oculto\n",
        "    guess = input(\"Adivina el valor secreto: \")\n",
        "    if str(guess).lower() == str(secret_value).lower():\n",
        "        print(\"¡Correcto!\")\n",
        "    else:\n",
        "        print(\"Incorrecto, el valor era:\", secret_value)\n",
        "\n",
        "def main():\n",
        "    print(\"Bienvenido al juego \")\n",
        "    size = input(\"Tamaño del tablero : \")\n",
        "    rows, cols = map(int, size.split('x'))\n",
        "    play_game(rows, cols)\n",
        "    while True:\n",
        "        play_again = input(\"¿Quieres jugar de nuevo? (s/n): \").lower()\n",
        "        if play_again != 's':\n",
        "            break\n",
        "        play_game(rows, cols)\n",
        "\n",
        "if __name__ == \"__main__\":\n",
        "    main()"
      ],
      "metadata": {
        "id": "FupbMoHeSJGs"
      },
      "execution_count": null,
      "outputs": []
    }
  ],
  "metadata": {
    "colab": {
      "toc_visible": true,
      "provenance": [],
      "include_colab_link": true
    },
    "kernelspec": {
      "display_name": "Python 3",
      "name": "python3"
    }
  },
  "nbformat": 4,
  "nbformat_minor": 0
}